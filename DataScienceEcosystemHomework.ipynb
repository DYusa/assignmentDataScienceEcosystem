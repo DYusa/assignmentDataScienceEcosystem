{
 "cells": [
  {
   "cell_type": "markdown",
   "metadata": {},
   "source": [
    "<center>\n",
    "    <img src=\"https://cf-courses-data.s3.us.cloud-object-storage.appdomain.cloud/IBMDeveloperSkillsNetwork-DS0105EN-SkillsNetwork/labs/Module2/images/SN_web_lightmode.png\" width=\"300\" alt=\"cognitiveclass.ai logo\">\n",
    "</center>\n"
   ]
  },
  {
   "cell_type": "markdown",
   "metadata": {},
   "source": [
    "#### Add your code below following the instructions given in the course\n"
   ]
  },
  {
   "cell_type": "markdown",
   "metadata": {},
   "source": [
    "# Data Science Tools and Ecosystem"
   ]
  },
  {
   "cell_type": "markdown",
   "metadata": {},
   "source": [
    "### In this notebook, Data Science Tools and Ecosystem are summarized\n",
    "\n",
    "To gain insights and improve decision-making, data scientists analyze and interpret vast amounts of data. Data Scientists employ a range of tools and methods to do this.\n",
    "\n",
    "Python is one of the most widely used computer languages for data analysis. There is a wide ecosystem of data analysis-focused libraries in Python, including NumPy, Pandas, and Scikit-learn.\n",
    "\n",
    "\n",
    "R is a different well-liked programming language for data analysis. Additionally, R has a sizable ecosystem of libraries made especially for data analysis, including ggplot2 and dplyr.\n",
    "\n",
    "Additionally, data scientists write and run their code using programs like RStudio and Jupyter Notebook. Data Scientists can write and run their code in an interactive environment made available by these technologies.\n"
   ]
  },
  {
   "cell_type": "markdown",
   "metadata": {},
   "source": [
    "\n",
    "- **Objectives:**\n",
    "\n",
    "    * List popular languages for Data Science.\n",
    "    * Describe the Data Science workflow and explain key concepts.\n",
    "    * Explain the difference between supervised and unsupervised learning.\n",
    "    * List and describe some of the popular machine learning algorithms.\n",
    "    * Basic calculations on python."
   ]
  },
  {
   "cell_type": "markdown",
   "metadata": {},
   "source": [
    "## Some of the popular languages that Data Scientists use are:\n",
    "1. Python: Python is one of the most popular programming languages among Data Scientists due to its ease of use, large ecosystem of data analysis libraries, and flexibility. Python can be used for data cleaning, analysis, visualization, and machine learning.\n",
    "\n",
    "2. R: R is another popular programming language among Data Scientists, particularly in academia. It is designed specifically for statistical computing and graphics, and has a large ecosystem of packages that enable Data Scientists to perform a wide range of data analysis tasks.\n",
    "\n",
    "3. SQL: SQL is a domain-specific language used for managing and querying relational databases. Data Scientists often use SQL to extract, manipulate, and analyze data stored in databases."
   ]
  },
  {
   "cell_type": "markdown",
   "metadata": {},
   "source": [
    "## Some of the commonly used libraries used by Data Scientists include:\n",
    "1. NumPy: NumPy is a library for Python that provides support for large, multi-dimensional arrays and matrices, as well as a large collection of mathematical functions to operate on these arrays. Data Scientists use NumPy for data manipulation, scientific computing, and machine learning.\n",
    "\n",
    "2. Pandas: Pandas is a library for Python that provides data structures for efficiently storing and manipulating large, tabular datasets. Data Scientists use Pandas for data cleaning, preparation, and analysis.\n",
    "\n",
    "3. Scikit-learn: Scikit-learn is a library for Python that provides a wide range of tools for machine learning, including classification, regression, clustering, and dimensionality reduction algorithms. Data Scientists use Scikit-learn to build and train machine learning models on their data."
   ]
  },
  {
   "cell_type": "markdown",
   "metadata": {},
   "source": [
    "| Data Science Tools |\n",
    "|--------------------|\n",
    "| Jupyter Notebook   |\n",
    "| RStudio            |\n",
    "| Spyder             |"
   ]
  },
  {
   "cell_type": "markdown",
   "metadata": {},
   "source": [
    "| Data Science Tools |\n",
    "|--------------------|\n",
    "| Jupyter Notebook   |\n",
    "| RStudio            |\n",
    "| Spyder             |"
   ]
  },
  {
   "cell_type": "markdown",
   "metadata": {},
   "source": [
    "| Data Science Tools |\n",
    "|--------------------|\n",
    "| Jupyter Notebook   |\n",
    "| RStudio            |\n",
    "| Spyder             |"
   ]
  }
 ],
 "metadata": {
  "kernelspec": {
   "display_name": "Python",
   "language": "python",
   "name": "conda-env-python-py"
  },
  "language_info": {
   "codemirror_mode": {
    "name": "ipython",
    "version": 3
   },
   "file_extension": ".py",
   "mimetype": "text/x-python",
   "name": "python",
   "nbconvert_exporter": "python",
   "pygments_lexer": "ipython3",
   "version": "3.7.12"
  }
 },
 "nbformat": 4,
 "nbformat_minor": 4
}
